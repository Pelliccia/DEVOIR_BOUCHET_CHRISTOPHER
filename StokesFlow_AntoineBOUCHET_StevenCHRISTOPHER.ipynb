{
 "cells": [
  {
   "cell_type": "markdown",
   "metadata": {},
   "source": [
    "# Biharmonic Equation\n",
    "\n",
    "In this project, we will attempt to numerically resolve the biharmonic equation for Stokes flow in the case a square cavity, with a top lid moving at aconstant velocity, with no fluid leaking from within the cavity. To do so, we will use the conjugate gradient method."
   ]
  },
  {
   "cell_type": "code",
   "execution_count": null,
   "metadata": {},
   "outputs": [],
   "source": [
    "import numpy"
   ]
  },
  {
   "cell_type": "code",
   "execution_count": 2,
   "metadata": {},
   "outputs": [],
   "source": [
    "nx = 41\n",
    "ny = 41\n",
    "\n",
    "l = 1.\n",
    "h = 1.\n",
    "\n",
    "dx = l/(nx-1)\n",
    "dy = h/(ny-1)\n",
    "\n",
    "l1_target = 1e-8"
   ]
  },
  {
   "cell_type": "code",
   "execution_count": 3,
   "metadata": {},
   "outputs": [],
   "source": [
    "def L1norm(new, old):\n",
    "    norm = numpy.sum(numpy.abs(new-old))\n",
    "    return norm"
   ]
  },
  {
   "cell_type": "markdown",
   "metadata": {},
   "source": [
    "## Discretization and boundary conditions"
   ]
  },
  {
   "cell_type": "markdown",
   "metadata": {},
   "source": [
    "First,we discretize the biharmonic equation with a second order central finite difference discretization.Using a central finite discretization (found here https://en.wikipedia.org/wiki/Finite_difference_coefficient) we can express the biharmonic equation as:\n",
    "\\begin{equation}\n",
    "\\nabla^4 \\psi= \\frac{\\psi_{i-2,j}-4\\psi_{i-1,j}+6\\psi_{i,j}-4\\psi_{i+1,j}+\\psi_{i+2,j}}{\\Delta x^4}+\\frac{\\psi_{i,j-2}-4\\psi_{i,j-1}+6\\psi_{i,j}-4\\psi_{i,j+1}+\\psi_{i,j+2}}{\\Delta y^4}+2\\frac{\\psi_{i-1,j-1}-2\\psi_{i-1,j}+\\psi_{i-1,j+1}-2\\psi_{i,j-1}+4\\psi_{i,j}-2\\psi_{i,j+1}+\\psi_{i+1,j-1}-2\\psi_{i+1,j}+\\psi_{i+1,j+1}}{\\Delta x^2\\Delta y^2}=0\n",
    "\\end{equation} where psi is the stream function"
   ]
  },
  {
   "cell_type": "markdown",
   "metadata": {},
   "source": [
    "We must now implement a discretization for our Neumann boundary conditions. We used a second order foward finite discretization for the left and bottom boundaries, and backwards for the right and top boundaries. This gives us the following boundary conditions:\n",
    "\n",
    " \n",
    "Left (x=0):    \\begin{equation}\n",
    "\\psi_{0,j}=0\n",
    "\\end{equation}\n",
    "\n",
    "\\begin{equation}\n",
    "\\frac{\\partial \\psi}{\\partial x}= \\frac{\\frac{-3}{2}\\psi_{0,j}+2\\psi_{1,j}-\\frac{1}{2}\\psi_{2,j}}{\\Delta x}=0\n",
    "\\end{equation}\n",
    "\n",
    "Right (x=l):     \\begin{equation}\n",
    "\\psi_{l,j}=0\n",
    "\\end{equation}\n",
    "\n",
    "\\begin{equation}\n",
    "\\frac{\\partial \\psi}{\\partial x}= \\frac{\\frac{1}{2}\\psi_{l-2,j}-2\\psi_{l-1,j}+\\frac{3}{2}\\psi_{l,j}}{\\Delta x}=0\n",
    "\\end{equation}\n",
    "\n",
    "Bottom (y=0):     \\begin{equation}\n",
    "\\psi_{i,0}=0\n",
    "\\end{equation}\n",
    "\n",
    "\\begin{equation}\n",
    "\\frac{\\partial \\psi}{\\partial y}= \\frac{\\frac{-3}{2}\\psi_{i,0}+2\\psi_{i,1}-\\frac{1}{2}\\psi_{i,2}}{\\Delta y}=0\n",
    "\\end{equation}\n",
    "\n",
    "Top (y=h):     \\begin{equation}\n",
    "\\psi_{i,h}=0\n",
    "\\end{equation}\n",
    "\n",
    "\\begin{equation}\n",
    "\\frac{\\partial \\psi}{\\partial y}= \\frac{\\frac{1}{2}\\psi_{i,h-2}-2\\psi_{i,h-1}+\\frac{3}{2}\\psi_{i,h}}{\\Delta y}=1\n",
    "\\end{equation}\n",
    "Our top boundary conditions are different, due to the presence of the moving lid."
   ]
  },
  {
   "cell_type": "markdown",
   "metadata": {},
   "source": [
    "## Conjugate gradient resolution\n",
    "We will now define the BiharmonicSolution function that takes an initial guess of psi, the paramaters of the cavity, aswell as the precision we whish to achieve, and iterates the conjugate gradient method until the L1 norm between two iterated solutions would be lower than our target precision."
   ]
  },
  {
   "cell_type": "code",
   "execution_count": 119,
   "metadata": {},
   "outputs": [],
   "source": [
    "def BiharmonicSolution(psi0, dx, dy,l1_target):\n",
    "    def A(psi):\n",
    "        out=(psi[2:-2,0:-4]-4*psi[2:-2,1:-3]+6*psi[2:-2,2:-2]-4*psi[2:-2,3:-1]+psi[2:-2,4:])/(dx**4)+(psi[0:-4,2:-2]-4*psi[1:-3,2:-2]+6*psi[2:-2,2:-2]-4*psi[3:-1,2:-2]+psi[4:,2:-2])/(dy**4)+2*(psi[1:-3,1:-3]-2*psi[2:-2,1:-3]+psi[3:-1,1:-3]-2*psi[1:-3,2:-2]+4*psi[2:-2,2:-2]-2*psi[3:-1,2:-2]+psi[1:-3,3:-1]-2*psi[2:-2,3:-1]+psi[3:-1,3:-1])/(dx*dy)**2\n",
    "        return out # A(psi) gives us our discretized biharmonic operator\n",
    "    psi = psi0.copy()\n",
    "    r = numpy.zeros_like(psi)\n",
    "    Ad = numpy.zeros_like(psi)\n",
    "    diff = l1_target + 1\n",
    "    r[2:-2, 2:-2] =- A(psi)# we calculate our intial residual \n",
    "    d = r.copy() # this is our search direction\n",
    "    ite=0       # this keeps track of our iterations\n",
    "    while diff > l1_target:\n",
    "        psik = psi.copy()\n",
    "        rk = r.copy()\n",
    "        Ad[2:-2, 2:-2] = A(d) # we apply the biharmonic operator to  d\n",
    "        alpha = numpy.sum(r * r) / numpy.sum(d * Ad) # we compute the step size\n",
    "        psi = psik + alpha * d # we update the solution\n",
    "        r = rk - alpha * Ad    # we update the residual\n",
    "        beta = numpy.sum(r * r) / numpy.sum(rk * rk) # we update the search direction\n",
    "        d = r + beta * d\n",
    "        #we will now apply our Neumann boundary conditions. The dirichlet conditions are automatically enforced\n",
    "        psi[1:-1,1]=(1/4)*psi[1:-1,2]   #left boundary\n",
    "        psi[1:-1,-2]=(1/4)*psi[1:-1,-3] #Right boundary\n",
    "        psi[1,1:-1]=(1/4)*psi[2,1:-1]   #Bottom boundary\n",
    "        psi[-2,1:-1]=(psi[-3,1:-1]-dy)/4#Top boundary\n",
    "        diff = L1norm(psi, psik) #finally, we calculate the l1 norm between out iterations\n",
    "        ite += 1\n",
    "\n",
    "    return psi"
   ]
  },
  {
   "cell_type": "markdown",
   "metadata": {},
   "source": [
    "We must now choose an intial guess for psi. Initially ,we took a matrix of zeroes, but it would have resulted in a division by zero when we computated the step size. We instead decided to appy our top boundary conditions to this zero-matrix:"
   ]
  },
  {
   "cell_type": "code",
   "execution_count": 128,
   "metadata": {},
   "outputs": [
    {
     "name": "stdout",
     "output_type": "stream",
     "text": [
      "[[ 0.       0.       0.      ...  0.       0.       0.     ]\n",
      " [ 0.       0.       0.      ...  0.       0.       0.     ]\n",
      " [ 0.       0.       0.      ...  0.       0.       0.     ]\n",
      " ...\n",
      " [ 0.       0.       0.      ...  0.       0.       0.     ]\n",
      " [ 0.      -0.00625 -0.00625 ... -0.00625 -0.00625  0.     ]\n",
      " [ 0.       0.       0.      ...  0.       0.       0.     ]]\n"
     ]
    }
   ],
   "source": [
    "psi0=numpy.zeros((nx,ny))\n",
    "for i in range(1,40):\n",
    "    psi0[-2 , i] = -dy/4\n",
    "print(psi0)"
   ]
  },
  {
   "cell_type": "code",
   "execution_count": 121,
   "metadata": {
    "scrolled": false
   },
   "outputs": [
    {
     "data": {
      "text/plain": [
       "array([[ 0.00000000e+00,  0.00000000e+00,  0.00000000e+00, ...,\n",
       "         0.00000000e+00,  0.00000000e+00,  0.00000000e+00],\n",
       "       [ 0.00000000e+00,  2.89705802e-08,  1.15882321e-07, ...,\n",
       "         1.15882234e-07,  2.89705586e-08,  0.00000000e+00],\n",
       "       [ 0.00000000e+00,  1.15882321e-07,  4.63529283e-07, ...,\n",
       "         4.63528938e-07,  1.15882234e-07,  0.00000000e+00],\n",
       "       ...,\n",
       "       [ 0.00000000e+00, -9.82236754e-04, -3.92894702e-03, ...,\n",
       "        -3.92894702e-03, -9.82236754e-04,  0.00000000e+00],\n",
       "       [ 0.00000000e+00, -6.49555919e-03, -7.23223675e-03, ...,\n",
       "        -7.23223675e-03, -6.49555919e-03,  0.00000000e+00],\n",
       "       [ 0.00000000e+00,  0.00000000e+00,  0.00000000e+00, ...,\n",
       "         0.00000000e+00,  0.00000000e+00,  0.00000000e+00]])"
      ]
     },
     "execution_count": 121,
     "metadata": {},
     "output_type": "execute_result"
    }
   ],
   "source": [
    "BiharmonicSolution(psi0, dx, dy, l1_target) #Diff increases with the number of iterations but should be decreasing, related to incorect boundary conditions?"
   ]
  },
  {
   "cell_type": "markdown",
   "metadata": {},
   "source": [
    "We will now plot our solution"
   ]
  },
  {
   "cell_type": "code",
   "execution_count": 129,
   "metadata": {},
   "outputs": [],
   "source": [
    "import matplotlib"
   ]
  },
  {
   "cell_type": "code",
   "execution_count": 130,
   "metadata": {},
   "outputs": [],
   "source": [
    "from matplotlib import pyplot"
   ]
  },
  {
   "cell_type": "code",
   "execution_count": 131,
   "metadata": {},
   "outputs": [
    {
     "data": {
      "text/plain": [
       "<matplotlib.contour.QuadContourSet at 0x9b28710>"
      ]
     },
     "execution_count": 131,
     "metadata": {},
     "output_type": "execute_result"
    },
    {
     "data": {
      "image/png": "[encoded data removed]",
      "text/plain": [
       "<Figure size 432x288 with 1 Axes>"
      ]
     },
     "metadata": {
      "needs_background": "light"
     },
     "output_type": "display_data"
    }
   ],
   "source": [
    "matplotlib.pyplot.contour(BiharmonicSolution(psi0, dx, dy, l1_target)) # plot is similar to expected, but flattened in y and stretched in x"
   ]
  },
  {
   "cell_type": "markdown",
   "metadata": {},
   "source": [
    "We obtain a plot very similar to the one presented in the notebook lesson. We see that the closer we are to the center of the top boundary (while still being under it), the lower the the value of the stream function is. This implies that in this area our flux is constant. This may be due to the presence of a vortex in this area."
   ]
  },
  {
   "cell_type": "markdown",
   "metadata": {},
   "source": [
    "We will now determine the value of the stream function at specific coordinates:"
   ]
  },
  {
   "cell_type": "code",
   "execution_count": 127,
   "metadata": {},
   "outputs": [
    {
     "name": "stdout",
     "output_type": "stream",
     "text": [
      "psi(0.6,0.2)= -0.002352048580824005\n",
      "psi(0.6,0.4)= -0.009098110092892703\n",
      "psi(0.6,0.6)= -0.019229969325212436\n",
      "psi(0.6,0.8)= -0.025270733888399767\n"
     ]
    }
   ],
   "source": [
    "psi=BiharmonicSolution(psi0, dx, dy, l1_target)\n",
    "print('psi(0.6,0.2)=',psi[8,24])\n",
    "print('psi(0.6,0.4)=',psi[16,24])\n",
    "print('psi(0.6,0.6)=',psi[24,24])\n",
    "print('psi(0.6,0.8)=',psi[32,24])"
   ]
  },
  {
   "cell_type": "code",
   "execution_count": null,
   "metadata": {},
   "outputs": [],
   "source": []
  }
 ],
 "metadata": {
  "kernelspec": {
   "display_name": "Python 3",
   "language": "python",
   "name": "python3"
  },
  "language_info": {
   "codemirror_mode": {
    "name": "ipython",
    "version": 3
   },
   "file_extension": ".py",
   "mimetype": "text/x-python",
   "name": "python",
   "nbconvert_exporter": "python",
   "pygments_lexer": "ipython3",
   "version": "3.7.0"
  }
 },
 "nbformat": 4,
 "nbformat_minor": 2
}
